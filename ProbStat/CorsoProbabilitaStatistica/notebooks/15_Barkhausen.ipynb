{
 "cells": [
  {
   "cell_type": "markdown",
   "metadata": {},
   "source": [
    "# Corso di Probabilità e Statistica- Le proprietà statistiche dell'effetto Barkhausen\n",
    "\n",
    "L'effetto Barkhausen è il rumore emesso da un ferromagnete durante il ciclo di isteresi. Le sue proprietà rivelano la complessità del moto delle pareti ferromagnetiche. In questo capitolo esploreremo le proprietà statistiche del rumore Barkhausen. \n",
    "\n",
    "I dati sperimentali sono dei segnali misurati su dei campioni di una lega policristallina FeSi da Gianfranco Durin (INRIM). Il voltaggio misurato è una misura della derivata della magnetizzazione $v=dB/dt$ \n",
    "in funzione del tempo. Gli esperimenti sono stati condotti a diverse frequenze $c= dH/dt$. Lo scopo di questo studio è di stabilire come la distribuzione del rumore dipenda dalla frequenza\n",
    "\n"
   ]
  },
  {
   "cell_type": "code",
   "execution_count": 1,
   "metadata": {},
   "outputs": [],
   "source": [
    "%matplotlib inline\n",
    "import pandas as pd\n",
    "import numpy as np\n",
    "import scipy.stats \n",
    "import scipy\n",
    "import seaborn as sns\n",
    "import matplotlib.pylab as plt"
   ]
  },
  {
   "cell_type": "code",
   "execution_count": 2,
   "metadata": {},
   "outputs": [
    {
     "name": "stderr",
     "output_type": "stream",
     "text": [
      "/tmp/ipykernel_25073/1736832712.py:2: DeprecationWarning: scipy.genfromtxt is deprecated and will be removed in SciPy 2.0.0, use numpy.genfromtxt instead\n",
      "  FS0005=scipy.genfromtxt(\"../data/Barkhausen/FS78G_0.005_time_1.dat\")\n",
      "/tmp/ipykernel_25073/1736832712.py:3: DeprecationWarning: scipy.genfromtxt is deprecated and will be removed in SciPy 2.0.0, use numpy.genfromtxt instead\n",
      "  FS001=scipy.genfromtxt(\"../data/Barkhausen/FS78G_0.01_time_1.dat\")\n",
      "/tmp/ipykernel_25073/1736832712.py:4: DeprecationWarning: scipy.genfromtxt is deprecated and will be removed in SciPy 2.0.0, use numpy.genfromtxt instead\n",
      "  FS002=scipy.genfromtxt(\"../data/Barkhausen/FS78G_0.02_time_1.dat\")\n",
      "/tmp/ipykernel_25073/1736832712.py:5: DeprecationWarning: scipy.genfromtxt is deprecated and will be removed in SciPy 2.0.0, use numpy.genfromtxt instead\n",
      "  FS003=scipy.genfromtxt(\"../data/Barkhausen/FS78G_0.03_time_1.dat\")\n",
      "/tmp/ipykernel_25073/1736832712.py:6: DeprecationWarning: scipy.genfromtxt is deprecated and will be removed in SciPy 2.0.0, use numpy.genfromtxt instead\n",
      "  FS005=scipy.genfromtxt(\"../data/Barkhausen/FS78G_0.05_time_1.dat\")\n"
     ]
    }
   ],
   "source": [
    "# Leggiamo i file\n",
    "FS0005=scipy.genfromtxt(\"../data/Barkhausen/FS78G_0.005_time_1.dat\")\n",
    "FS001=scipy.genfromtxt(\"../data/Barkhausen/FS78G_0.01_time_1.dat\")\n",
    "FS002=scipy.genfromtxt(\"../data/Barkhausen/FS78G_0.02_time_1.dat\")\n",
    "FS003=scipy.genfromtxt(\"../data/Barkhausen/FS78G_0.03_time_1.dat\")\n",
    "FS005=scipy.genfromtxt(\"../data/Barkhausen/FS78G_0.05_time_1.dat\")"
   ]
  },
  {
   "cell_type": "code",
   "execution_count": 3,
   "metadata": {},
   "outputs": [
    {
     "ename": "AttributeError",
     "evalue": "'DataFrame' object has no attribute 'append'",
     "output_type": "error",
     "traceback": [
      "\u001b[0;31m---------------------------------------------------------------------------\u001b[0m",
      "\u001b[0;31mAttributeError\u001b[0m                            Traceback (most recent call last)",
      "\u001b[0;32m/tmp/ipykernel_25073/1707901260.py\u001b[0m in \u001b[0;36m?\u001b[0;34m()\u001b[0m\n\u001b[1;32m      4\u001b[0m \u001b[0mdf\u001b[0m\u001b[0;34m[\u001b[0m\u001b[0;34m'time'\u001b[0m\u001b[0;34m]\u001b[0m \u001b[0;34m=\u001b[0m \u001b[0mrange\u001b[0m\u001b[0;34m(\u001b[0m\u001b[0;36m1\u001b[0m\u001b[0;34m,\u001b[0m \u001b[0mlen\u001b[0m\u001b[0;34m(\u001b[0m\u001b[0mdf\u001b[0m\u001b[0;34m)\u001b[0m \u001b[0;34m+\u001b[0m \u001b[0;36m1\u001b[0m\u001b[0;34m)\u001b[0m\u001b[0;34m\u001b[0m\u001b[0;34m\u001b[0m\u001b[0m\n\u001b[1;32m      5\u001b[0m \u001b[0mdf1\u001b[0m\u001b[0;34m=\u001b[0m\u001b[0mpd\u001b[0m\u001b[0;34m.\u001b[0m\u001b[0mDataFrame\u001b[0m\u001b[0;34m(\u001b[0m\u001b[0mdata\u001b[0m\u001b[0;34m=\u001b[0m\u001b[0mFS001\u001b[0m\u001b[0;34m,\u001b[0m\u001b[0mcolumns\u001b[0m\u001b[0;34m=\u001b[0m\u001b[0;34m[\u001b[0m\u001b[0;34m\"Voltage\"\u001b[0m\u001b[0;34m]\u001b[0m\u001b[0;34m)\u001b[0m\u001b[0;34m\u001b[0m\u001b[0;34m\u001b[0m\u001b[0m\n\u001b[1;32m      6\u001b[0m \u001b[0mdf1\u001b[0m\u001b[0;34m[\u001b[0m\u001b[0;34m\"Frequency\"\u001b[0m\u001b[0;34m]\u001b[0m\u001b[0;34m=\u001b[0m\u001b[0;36m0.01\u001b[0m\u001b[0;34m\u001b[0m\u001b[0;34m\u001b[0m\u001b[0m\n\u001b[1;32m      7\u001b[0m \u001b[0mdf1\u001b[0m\u001b[0;34m[\u001b[0m\u001b[0;34m'time'\u001b[0m\u001b[0;34m]\u001b[0m \u001b[0;34m=\u001b[0m \u001b[0mrange\u001b[0m\u001b[0;34m(\u001b[0m\u001b[0;36m1\u001b[0m\u001b[0;34m,\u001b[0m \u001b[0mlen\u001b[0m\u001b[0;34m(\u001b[0m\u001b[0mdf1\u001b[0m\u001b[0;34m)\u001b[0m \u001b[0;34m+\u001b[0m \u001b[0;36m1\u001b[0m\u001b[0;34m)\u001b[0m\u001b[0;34m\u001b[0m\u001b[0;34m\u001b[0m\u001b[0m\n\u001b[0;32m----> 8\u001b[0;31m \u001b[0mdf\u001b[0m\u001b[0;34m=\u001b[0m\u001b[0mdf\u001b[0m\u001b[0;34m.\u001b[0m\u001b[0mappend\u001b[0m\u001b[0;34m(\u001b[0m\u001b[0mdf1\u001b[0m\u001b[0;34m)\u001b[0m\u001b[0;34m\u001b[0m\u001b[0;34m\u001b[0m\u001b[0m\n\u001b[0m\u001b[1;32m      9\u001b[0m \u001b[0mdf1\u001b[0m\u001b[0;34m=\u001b[0m\u001b[0mpd\u001b[0m\u001b[0;34m.\u001b[0m\u001b[0mDataFrame\u001b[0m\u001b[0;34m(\u001b[0m\u001b[0mdata\u001b[0m\u001b[0;34m=\u001b[0m\u001b[0mFS002\u001b[0m\u001b[0;34m,\u001b[0m\u001b[0mcolumns\u001b[0m\u001b[0;34m=\u001b[0m\u001b[0;34m[\u001b[0m\u001b[0;34m\"Voltage\"\u001b[0m\u001b[0;34m]\u001b[0m\u001b[0;34m)\u001b[0m\u001b[0;34m\u001b[0m\u001b[0;34m\u001b[0m\u001b[0m\n\u001b[1;32m     10\u001b[0m \u001b[0mdf1\u001b[0m\u001b[0;34m[\u001b[0m\u001b[0;34m\"Frequency\"\u001b[0m\u001b[0;34m]\u001b[0m\u001b[0;34m=\u001b[0m\u001b[0;36m0.02\u001b[0m\u001b[0;34m\u001b[0m\u001b[0;34m\u001b[0m\u001b[0m\n\u001b[1;32m     11\u001b[0m \u001b[0mdf1\u001b[0m\u001b[0;34m[\u001b[0m\u001b[0;34m'time'\u001b[0m\u001b[0;34m]\u001b[0m \u001b[0;34m=\u001b[0m \u001b[0mrange\u001b[0m\u001b[0;34m(\u001b[0m\u001b[0;36m1\u001b[0m\u001b[0;34m,\u001b[0m \u001b[0mlen\u001b[0m\u001b[0;34m(\u001b[0m\u001b[0mdf1\u001b[0m\u001b[0;34m)\u001b[0m \u001b[0;34m+\u001b[0m \u001b[0;36m1\u001b[0m\u001b[0;34m)\u001b[0m\u001b[0;34m\u001b[0m\u001b[0;34m\u001b[0m\u001b[0m\n",
      "\u001b[0;32m~/.local/lib/python3.10/site-packages/pandas/core/generic.py\u001b[0m in \u001b[0;36m?\u001b[0;34m(self, name)\u001b[0m\n\u001b[1;32m   6200\u001b[0m             \u001b[0;32mand\u001b[0m \u001b[0mname\u001b[0m \u001b[0;32mnot\u001b[0m \u001b[0;32min\u001b[0m \u001b[0mself\u001b[0m\u001b[0;34m.\u001b[0m\u001b[0m_accessors\u001b[0m\u001b[0;34m\u001b[0m\u001b[0;34m\u001b[0m\u001b[0m\n\u001b[1;32m   6201\u001b[0m             \u001b[0;32mand\u001b[0m \u001b[0mself\u001b[0m\u001b[0;34m.\u001b[0m\u001b[0m_info_axis\u001b[0m\u001b[0;34m.\u001b[0m\u001b[0m_can_hold_identifiers_and_holds_name\u001b[0m\u001b[0;34m(\u001b[0m\u001b[0mname\u001b[0m\u001b[0;34m)\u001b[0m\u001b[0;34m\u001b[0m\u001b[0;34m\u001b[0m\u001b[0m\n\u001b[1;32m   6202\u001b[0m         ):\n\u001b[1;32m   6203\u001b[0m             \u001b[0;32mreturn\u001b[0m \u001b[0mself\u001b[0m\u001b[0;34m[\u001b[0m\u001b[0mname\u001b[0m\u001b[0;34m]\u001b[0m\u001b[0;34m\u001b[0m\u001b[0;34m\u001b[0m\u001b[0m\n\u001b[0;32m-> 6204\u001b[0;31m         \u001b[0;32mreturn\u001b[0m \u001b[0mobject\u001b[0m\u001b[0;34m.\u001b[0m\u001b[0m__getattribute__\u001b[0m\u001b[0;34m(\u001b[0m\u001b[0mself\u001b[0m\u001b[0;34m,\u001b[0m \u001b[0mname\u001b[0m\u001b[0;34m)\u001b[0m\u001b[0;34m\u001b[0m\u001b[0;34m\u001b[0m\u001b[0m\n\u001b[0m",
      "\u001b[0;31mAttributeError\u001b[0m: 'DataFrame' object has no attribute 'append'"
     ]
    }
   ],
   "source": [
    "# inseriamo i files in un unico dataframe\n",
    "df=pd.DataFrame(data=FS0005,columns=[\"Voltage\"])\n",
    "df[\"Frequency\"]=0.005\n",
    "df['time'] = range(1, len(df) + 1)\n",
    "df1=pd.DataFrame(data=FS001,columns=[\"Voltage\"])\n",
    "df1[\"Frequency\"]=0.01\n",
    "df1['time'] = range(1, len(df1) + 1)\n",
    "df=df.append(df1)\n",
    "df1=pd.DataFrame(data=FS002,columns=[\"Voltage\"])\n",
    "df1[\"Frequency\"]=0.02\n",
    "df1['time'] = range(1, len(df1) + 1)\n",
    "df=df.append(df1)\n",
    "df1=pd.DataFrame(data=FS003,columns=[\"Voltage\"])\n",
    "df1[\"Frequency\"]=0.03\n",
    "df1['time'] = range(1, len(df1) + 1)\n",
    "df=df.append(df1)\n",
    "df1=pd.DataFrame(data=FS005,columns=[\"Voltage\"])\n",
    "df1[\"Frequency\"]=0.05\n",
    "df1['time'] = range(1, len(df1) + 1)\n",
    "df=df.append(df1)"
   ]
  },
  {
   "cell_type": "code",
   "execution_count": null,
   "metadata": {},
   "outputs": [],
   "source": []
  },
  {
   "cell_type": "markdown",
   "metadata": {},
   "source": [
    "**Esporazione qualitativa** Per prima cosa facciamo dei grafici dei segnali Barkhausen, calcoliamone le medie e guardiamone la distribuzione"
   ]
  },
  {
   "cell_type": "code",
   "execution_count": null,
   "metadata": {},
   "outputs": [],
   "source": [
    "plt.rcParams.update({'font.size': 18})\n",
    "# plottiamo i segnali\n",
    "g = sns.FacetGrid(df, row=\"Frequency\", height=2, aspect=4.)\n",
    "g.map_dataframe(sns.lineplot, x=\"time\", y=\"Voltage\")\n",
    "plt.ylim((0,5e-6))\n",
    "plt.xlim((0,10000))\n",
    "g.set_axis_labels(\"time\", \"Voltage\")"
   ]
  },
  {
   "cell_type": "code",
   "execution_count": null,
   "metadata": {},
   "outputs": [],
   "source": [
    "#confrontiamo le proprietà dei segnali\n",
    "media=df.groupby(\"Frequency\").mean()\n",
    "media.reset_index(inplace=True)\n",
    "media"
   ]
  },
  {
   "cell_type": "code",
   "execution_count": null,
   "metadata": {},
   "outputs": [],
   "source": [
    "sns.scatterplot(data=media, x=\"Frequency\", y=\"Voltage\")\n",
    "plt.ylim((1e-08,5e-07))"
   ]
  },
  {
   "cell_type": "markdown",
   "metadata": {},
   "source": [
    "Proviamo a confrontare le distribuzioni con un boxplot"
   ]
  },
  {
   "cell_type": "code",
   "execution_count": null,
   "metadata": {},
   "outputs": [],
   "source": [
    "sns.boxplot(data=df, x=\"Frequency\", y=\"Voltage\")\n",
    "plt.ylim((0,1e-06))"
   ]
  },
  {
   "cell_type": "markdown",
   "metadata": {},
   "source": [
    "Notiamo che ci sono molti \"outliers\" ovvero le distribuzioni hanno delle code molto lunghe. Conviene quindi considerare il logaritmo del segnale"
   ]
  },
  {
   "cell_type": "code",
   "execution_count": null,
   "metadata": {},
   "outputs": [],
   "source": [
    "df[\"log(Voltage)\"]=np.log(df.Voltage)\n",
    "# togliamo i NaN\n",
    "df=df.dropna()\n",
    "sns.boxplot(data=df, x=\"Frequency\", y=\"log(Voltage)\")"
   ]
  },
  {
   "cell_type": "markdown",
   "metadata": {},
   "source": [
    "Consideriamo ora gli istogrammi"
   ]
  },
  {
   "cell_type": "code",
   "execution_count": null,
   "metadata": {},
   "outputs": [],
   "source": [
    "#log-lin\n",
    "g=sns.histplot(data=df,x=\"Voltage\",hue=\"Frequency\", \n",
    "             stat=\"density\", kde=False, palette=\"Set2\",\n",
    "             cumulative=False,  \n",
    "               common_norm=False, element=\"step\")\n",
    "g.set_yscale('log')\n",
    "plt.xlim((0,1e-6))\n",
    "plt.ylim((1e4,1e8))\n",
    "plt.ticklabel_format(style='sci', axis='x', scilimits=(0,0))"
   ]
  },
  {
   "cell_type": "code",
   "execution_count": null,
   "metadata": {},
   "outputs": [],
   "source": [
    "#log-log\n",
    "g=sns.histplot(data=df,x=\"Voltage\",hue=\"Frequency\", \n",
    "             stat=\"density\", kde=True, palette=\"Set2\",\n",
    "             cumulative=False, log_scale=True, \n",
    "               common_norm=False, element=\"step\")\n",
    "g.set_yscale('log')\n",
    "plt.xlim((1e-8,1e-5))\n",
    "plt.ylim((1e-3,1))"
   ]
  },
  {
   "cell_type": "code",
   "execution_count": null,
   "metadata": {},
   "outputs": [],
   "source": [
    "# cumulate\n",
    "g=sns.histplot(data=df,x=\"log(Voltage)\",hue=\"Frequency\", \n",
    "             stat=\"density\", palette=\"Set2\",\n",
    "             cumulative=True, common_norm=False, \n",
    "             element=\"step\" , kde=True)"
   ]
  },
  {
   "cell_type": "markdown",
   "metadata": {},
   "source": [
    "### Modello\n",
    "\n",
    "Il modello ABBM (Alessandro, Beatrice, Bertotti, Montorsi) descrive il moto di una parete ferromagnetica con il moto in un potenziale random:\n",
    "\n",
    "$$ \\frac{dx}{dt} = Ct - kx + W(x)$$\n",
    "\n",
    "dove $ct$ è proporzionale al campo magnetico, $-kx$ al campo smagnetizzante, $W(x)$ è un random walk in $x$ e rappresenta il potenziale random con correlazioni\n",
    "\n",
    "$$ \\langle (W(x)-W(x'))^2 \\rangle = D|x-x'|$$\n",
    "\n",
    "La soluzione di questo modello prevede che la distribuzione delle velocità della parete (proporzionale al voltaggio misurato sperimentalmente) segue una distribuzione gamma:\n",
    "\n",
    "$$ p(v) = \\frac{v^{c-1} e^{-v/v_0}}{\\Gamma(c)} $$\n",
    "\n",
    "con $c=C/D$ e $v_0=D/k$\n"
   ]
  },
  {
   "cell_type": "markdown",
   "metadata": {},
   "source": [
    "Usiamo il metodo MLE per fittare il segnale sperimentale con la teoria:"
   ]
  },
  {
   "cell_type": "code",
   "execution_count": null,
   "metadata": {},
   "outputs": [],
   "source": [
    "c, loc, v_0= scipy.stats.gamma.fit(df[df[\"Frequency\"]==0.05].Voltage, floc=0, scale=1e-7)"
   ]
  },
  {
   "cell_type": "code",
   "execution_count": null,
   "metadata": {},
   "outputs": [],
   "source": [
    "c,v_0"
   ]
  },
  {
   "cell_type": "markdown",
   "metadata": {},
   "source": [
    "Confrontiamo il fit con l'istogramma sperimentale"
   ]
  },
  {
   "cell_type": "code",
   "execution_count": null,
   "metadata": {},
   "outputs": [],
   "source": [
    "xmin=0\n",
    "xmax=4e-6\n",
    "x = np.linspace(xmin,xmax,101)\n",
    "plt.hist(df[df[\"Frequency\"]==0.05].Voltage,bins=50, density=True, label='data',\n",
    "         stacked=True, log=True, histtype=\"step\")\n",
    "gg=scipy.stats.gamma(c,loc=0, scale=v_0)\n",
    "plt.plot(x, gg.pdf(x), label=\"Fit 1\", color=\"black\")\n",
    "plt.xlabel('v')\n",
    "plt.ylabel('p(v)')\n",
    "plt.ticklabel_format(style='sci', axis='x', scilimits=(0,0))"
   ]
  },
  {
   "cell_type": "markdown",
   "metadata": {},
   "source": [
    "**Esercizio**\n",
    "\n",
    "- Fittare le distribuzioni per tutte le 5 frequenze.  \n",
    "- Rappresentare tutti i fit in un unica figura\n",
    "- Calcolare dal fit la media della distribuzione gamma $\\langle v \\rangle= c v_0$ e poi plottarla in funzione della media di ciascuna distribuzione sperimentale.\n",
    "- Plottare $c$ e $v_0$ in funzione della frequenza.\n"
   ]
  },
  {
   "cell_type": "code",
   "execution_count": null,
   "metadata": {},
   "outputs": [],
   "source": []
  },
  {
   "cell_type": "code",
   "execution_count": null,
   "metadata": {},
   "outputs": [],
   "source": []
  }
 ],
 "metadata": {
  "kernelspec": {
   "display_name": "Python 3 (ipykernel)",
   "language": "python",
   "name": "python3"
  },
  "language_info": {
   "codemirror_mode": {
    "name": "ipython",
    "version": 3
   },
   "file_extension": ".py",
   "mimetype": "text/x-python",
   "name": "python",
   "nbconvert_exporter": "python",
   "pygments_lexer": "ipython3",
   "version": "3.10.12"
  }
 },
 "nbformat": 4,
 "nbformat_minor": 4
}
