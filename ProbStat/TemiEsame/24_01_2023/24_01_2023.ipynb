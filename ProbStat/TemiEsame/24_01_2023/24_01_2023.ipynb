{
 "cells": [
  {
   "cell_type": "markdown",
   "id": "fd216bb0-7d88-4787-a12b-f463cc070e04",
   "metadata": {},
   "source": [
    "**ESAME 24-01-2023**"
   ]
  },
  {
   "cell_type": "code",
   "execution_count": null,
   "id": "e25c42d5-8d36-4b4e-aa5d-6e057c6b14be",
   "metadata": {},
   "outputs": [],
   "source": []
  }
 ],
 "metadata": {
  "kernelspec": {
   "display_name": "Python 3 (ipykernel)",
   "language": "python",
   "name": "python3"
  },
  "language_info": {
   "codemirror_mode": {
    "name": "ipython",
    "version": 3
   },
   "file_extension": ".py",
   "mimetype": "text/x-python",
   "name": "python",
   "nbconvert_exporter": "python",
   "pygments_lexer": "ipython3",
   "version": "3.10.12"
  }
 },
 "nbformat": 4,
 "nbformat_minor": 5
}
